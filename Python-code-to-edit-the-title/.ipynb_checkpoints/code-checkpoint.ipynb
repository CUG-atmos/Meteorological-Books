{
 "cells": [
  {
   "cell_type": "markdown",
   "metadata": {},
   "source": [
    "> 编辑书名的python代码  \n",
    "一段小程序  \n",
    "**如果你上传的书比较多，则你可能需要此代码，否则请忽略此代码**  \n",
    "代码很简单"
   ]
  },
  {
   "cell_type": "markdown",
   "metadata": {},
   "source": [
    "### 导入各种库"
   ]
  },
  {
   "cell_type": "code",
   "execution_count": 1,
   "metadata": {},
   "outputs": [],
   "source": [
    "import os\n",
    "import glob\n",
    "import numpy as np\n",
    "import pandas as pd\n",
    "import matplotlib.pyplot as plt\n",
    "import re   #导入正则表达式处理包"
   ]
  },
  {
   "cell_type": "code",
   "execution_count": 6,
   "metadata": {},
   "outputs": [],
   "source": [
    "path_book = r'C:\\Users\\zhangzhe\\Desktop\\大气科学\\Weather-and-Climate'"
   ]
  },
  {
   "cell_type": "code",
   "execution_count": 8,
   "metadata": {},
   "outputs": [],
   "source": [
    "bookname  = os.listdir(path_book)"
   ]
  },
  {
   "cell_type": "code",
   "execution_count": 9,
   "metadata": {},
   "outputs": [
    {
     "data": {
      "text/plain": [
       "['Regional Climate Studies of China.pdf',\n",
       " 'Synoptic and Dynamic Climatology.pdf',\n",
       " 'The-Encyclopedia-of-World-Climatology.pdf',\n",
       " 'Y1992.eBook.Peixoto - Physics of Climate.pdf',\n",
       " '[Catherine_Meiner]_High-resolution_sensitivity_st(BookZZ.org).pdf',\n",
       " '[Jianping_Li,_Richard_Swinbank,_Richard_Grotjahn,_(b-ok.cc).pdf',\n",
       " '东亚季风.pdf',\n",
       " '国家气候中心大气环流模式——基本原理和使用说明-董敏-气象出版社.pdf',\n",
       " '国家气候中心模式-董敏-气象出版社.pdf',\n",
       " '国家气象中心50年-裘国庆-气象出版社.pdf',\n",
       " '气候动力学（倪允琪）.pdf',\n",
       " '现代气候学研究进展-王绍武-气象出版社.pdf',\n",
       " '现代气候统计诊断与预测技术(第二版).pdf']"
      ]
     },
     "execution_count": 9,
     "metadata": {},
     "output_type": "execute_result"
    }
   ],
   "source": [
    "bookname"
   ]
  },
  {
   "cell_type": "code",
   "execution_count": null,
   "metadata": {},
   "outputs": [],
   "source": []
  }
 ],
 "metadata": {
  "kernelspec": {
   "display_name": "Python 3",
   "language": "python",
   "name": "python3"
  },
  "language_info": {
   "codemirror_mode": {
    "name": "ipython",
    "version": 3
   },
   "file_extension": ".py",
   "mimetype": "text/x-python",
   "name": "python",
   "nbconvert_exporter": "python",
   "pygments_lexer": "ipython3",
   "version": "3.7.1"
  }
 },
 "nbformat": 4,
 "nbformat_minor": 2
}
